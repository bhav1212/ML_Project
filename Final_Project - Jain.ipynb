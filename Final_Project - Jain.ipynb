{
 "cells": [
  {
   "cell_type": "code",
   "execution_count": 1,
   "id": "9f6fa189",
   "metadata": {},
   "outputs": [],
   "source": [
    "import pandas as pd\n",
    "import numpy as np"
   ]
  },
  {
   "cell_type": "code",
   "execution_count": 2,
   "id": "046e6149",
   "metadata": {},
   "outputs": [],
   "source": [
    "# import warnings filter\n",
    "from warnings import simplefilter\n",
    "\n",
    "# ignore all future warnings\n",
    "simplefilter(action='ignore', category=FutureWarning)\n",
    "import warnings\n",
    "warnings.filterwarnings('ignore')\n",
    "\n",
    "%matplotlib inline"
   ]
  },
  {
   "cell_type": "code",
   "execution_count": null,
   "id": "bfa55b53",
   "metadata": {},
   "outputs": [],
   "source": []
  },
  {
   "cell_type": "markdown",
   "id": "51d71eec",
   "metadata": {},
   "source": [
    "# Data"
   ]
  },
  {
   "cell_type": "code",
   "execution_count": 3,
   "id": "9bde10e3",
   "metadata": {},
   "outputs": [
    {
     "data": {
      "text/plain": [
       "(1000, 21)"
      ]
     },
     "execution_count": 3,
     "metadata": {},
     "output_type": "execute_result"
    }
   ],
   "source": [
    "#Importing and Naming the columns of the Train data & Test data\n",
    "colnames = ['status_Account', 'duration', 'credit_history',\n",
    "             'purpose', 'credit_amount', 'savings_account', 'employment_since',\n",
    "             'installment_rate', 'personal_status_sex', 'debtors', \n",
    "             'residence_since', 'property', 'age', 'other_installment_plans',\n",
    "             'housing', 'existing_credits', 'job', 'people_provide_maintenance',\n",
    "             'telephone', 'foreign_worker', 'creditworthy']\n",
    "\n",
    "df = pd.read_csv('kredit.dat', header=None, sep=\"\\t\", names=colnames)\n",
    "df.shape"
   ]
  },
  {
   "cell_type": "code",
   "execution_count": 4,
   "id": "b54303b0",
   "metadata": {},
   "outputs": [
    {
     "data": {
      "text/html": [
       "<div>\n",
       "<style scoped>\n",
       "    .dataframe tbody tr th:only-of-type {\n",
       "        vertical-align: middle;\n",
       "    }\n",
       "\n",
       "    .dataframe tbody tr th {\n",
       "        vertical-align: top;\n",
       "    }\n",
       "\n",
       "    .dataframe thead th {\n",
       "        text-align: right;\n",
       "    }\n",
       "</style>\n",
       "<table border=\"1\" class=\"dataframe\">\n",
       "  <thead>\n",
       "    <tr style=\"text-align: right;\">\n",
       "      <th></th>\n",
       "      <th>status_Account</th>\n",
       "      <th>duration</th>\n",
       "      <th>credit_history</th>\n",
       "      <th>purpose</th>\n",
       "      <th>credit_amount</th>\n",
       "      <th>savings_account</th>\n",
       "      <th>employment_since</th>\n",
       "      <th>installment_rate</th>\n",
       "      <th>personal_status_sex</th>\n",
       "      <th>debtors</th>\n",
       "      <th>...</th>\n",
       "      <th>property</th>\n",
       "      <th>age</th>\n",
       "      <th>other_installment_plans</th>\n",
       "      <th>housing</th>\n",
       "      <th>existing_credits</th>\n",
       "      <th>job</th>\n",
       "      <th>people_provide_maintenance</th>\n",
       "      <th>telephone</th>\n",
       "      <th>foreign_worker</th>\n",
       "      <th>creditworthy</th>\n",
       "    </tr>\n",
       "  </thead>\n",
       "  <tbody>\n",
       "    <tr>\n",
       "      <th>0</th>\n",
       "      <td>A14</td>\n",
       "      <td>36</td>\n",
       "      <td>A32</td>\n",
       "      <td>?</td>\n",
       "      <td>2299</td>\n",
       "      <td>A63</td>\n",
       "      <td>?</td>\n",
       "      <td>4</td>\n",
       "      <td>A93</td>\n",
       "      <td>A101</td>\n",
       "      <td>...</td>\n",
       "      <td>A123</td>\n",
       "      <td>39</td>\n",
       "      <td>A143</td>\n",
       "      <td>A152</td>\n",
       "      <td>1</td>\n",
       "      <td>A173</td>\n",
       "      <td>1</td>\n",
       "      <td>A191</td>\n",
       "      <td>?</td>\n",
       "      <td>1</td>\n",
       "    </tr>\n",
       "    <tr>\n",
       "      <th>1</th>\n",
       "      <td>A12</td>\n",
       "      <td>18</td>\n",
       "      <td>A32</td>\n",
       "      <td>A46</td>\n",
       "      <td>1239</td>\n",
       "      <td>A65</td>\n",
       "      <td>A73</td>\n",
       "      <td>4</td>\n",
       "      <td>A93</td>\n",
       "      <td>A101</td>\n",
       "      <td>...</td>\n",
       "      <td>A124</td>\n",
       "      <td>61</td>\n",
       "      <td>A143</td>\n",
       "      <td>A153</td>\n",
       "      <td>1</td>\n",
       "      <td>?</td>\n",
       "      <td>1</td>\n",
       "      <td>A191</td>\n",
       "      <td>A201</td>\n",
       "      <td>1</td>\n",
       "    </tr>\n",
       "    <tr>\n",
       "      <th>2</th>\n",
       "      <td>A13</td>\n",
       "      <td>24</td>\n",
       "      <td>A32</td>\n",
       "      <td>A40</td>\n",
       "      <td>947</td>\n",
       "      <td>A61</td>\n",
       "      <td>A74</td>\n",
       "      <td>4</td>\n",
       "      <td>A93</td>\n",
       "      <td>A101</td>\n",
       "      <td>...</td>\n",
       "      <td>A124</td>\n",
       "      <td>38</td>\n",
       "      <td>A141</td>\n",
       "      <td>A153</td>\n",
       "      <td>1</td>\n",
       "      <td>?</td>\n",
       "      <td>2</td>\n",
       "      <td>A191</td>\n",
       "      <td>?</td>\n",
       "      <td>2</td>\n",
       "    </tr>\n",
       "    <tr>\n",
       "      <th>3</th>\n",
       "      <td>A14</td>\n",
       "      <td>15</td>\n",
       "      <td>A33</td>\n",
       "      <td>A43</td>\n",
       "      <td>1478</td>\n",
       "      <td>A61</td>\n",
       "      <td>A73</td>\n",
       "      <td>4</td>\n",
       "      <td>A94</td>\n",
       "      <td>A101</td>\n",
       "      <td>...</td>\n",
       "      <td>A121</td>\n",
       "      <td>33</td>\n",
       "      <td>A141</td>\n",
       "      <td>A152</td>\n",
       "      <td>2</td>\n",
       "      <td>A173</td>\n",
       "      <td>1</td>\n",
       "      <td>A191</td>\n",
       "      <td>A201</td>\n",
       "      <td>1</td>\n",
       "    </tr>\n",
       "    <tr>\n",
       "      <th>4</th>\n",
       "      <td>A14</td>\n",
       "      <td>24</td>\n",
       "      <td>A32</td>\n",
       "      <td>A40</td>\n",
       "      <td>1525</td>\n",
       "      <td>A64</td>\n",
       "      <td>A74</td>\n",
       "      <td>4</td>\n",
       "      <td>A92</td>\n",
       "      <td>A101</td>\n",
       "      <td>...</td>\n",
       "      <td>A123</td>\n",
       "      <td>34</td>\n",
       "      <td>A143</td>\n",
       "      <td>A152</td>\n",
       "      <td>1</td>\n",
       "      <td>A173</td>\n",
       "      <td>2</td>\n",
       "      <td>A192</td>\n",
       "      <td>A201</td>\n",
       "      <td>1</td>\n",
       "    </tr>\n",
       "  </tbody>\n",
       "</table>\n",
       "<p>5 rows × 21 columns</p>\n",
       "</div>"
      ],
      "text/plain": [
       "  status_Account  duration credit_history purpose  credit_amount  \\\n",
       "0            A14        36            A32       ?           2299   \n",
       "1            A12        18            A32     A46           1239   \n",
       "2            A13        24            A32     A40            947   \n",
       "3            A14        15            A33     A43           1478   \n",
       "4            A14        24            A32     A40           1525   \n",
       "\n",
       "  savings_account employment_since  installment_rate personal_status_sex  \\\n",
       "0             A63                ?                 4                 A93   \n",
       "1             A65              A73                 4                 A93   \n",
       "2             A61              A74                 4                 A93   \n",
       "3             A61              A73                 4                 A94   \n",
       "4             A64              A74                 4                 A92   \n",
       "\n",
       "  debtors  ...  property age  other_installment_plans housing  \\\n",
       "0    A101  ...      A123  39                     A143    A152   \n",
       "1    A101  ...      A124  61                     A143    A153   \n",
       "2    A101  ...      A124  38                     A141    A153   \n",
       "3    A101  ...      A121  33                     A141    A152   \n",
       "4    A101  ...      A123  34                     A143    A152   \n",
       "\n",
       "  existing_credits   job people_provide_maintenance  telephone foreign_worker  \\\n",
       "0                1  A173                          1       A191              ?   \n",
       "1                1     ?                          1       A191           A201   \n",
       "2                1     ?                          2       A191              ?   \n",
       "3                2  A173                          1       A191           A201   \n",
       "4                1  A173                          2       A192           A201   \n",
       "\n",
       "  creditworthy  \n",
       "0            1  \n",
       "1            1  \n",
       "2            2  \n",
       "3            1  \n",
       "4            1  \n",
       "\n",
       "[5 rows x 21 columns]"
      ]
     },
     "execution_count": 4,
     "metadata": {},
     "output_type": "execute_result"
    }
   ],
   "source": [
    "df.head()"
   ]
  },
  {
   "cell_type": "code",
   "execution_count": 5,
   "id": "ec41d1a3",
   "metadata": {},
   "outputs": [
    {
     "data": {
      "text/html": [
       "<div>\n",
       "<style scoped>\n",
       "    .dataframe tbody tr th:only-of-type {\n",
       "        vertical-align: middle;\n",
       "    }\n",
       "\n",
       "    .dataframe tbody tr th {\n",
       "        vertical-align: top;\n",
       "    }\n",
       "\n",
       "    .dataframe thead th {\n",
       "        text-align: right;\n",
       "    }\n",
       "</style>\n",
       "<table border=\"1\" class=\"dataframe\">\n",
       "  <thead>\n",
       "    <tr style=\"text-align: right;\">\n",
       "      <th></th>\n",
       "      <th>duration</th>\n",
       "      <th>credit_amount</th>\n",
       "      <th>installment_rate</th>\n",
       "      <th>residence_since</th>\n",
       "      <th>age</th>\n",
       "      <th>existing_credits</th>\n",
       "      <th>people_provide_maintenance</th>\n",
       "      <th>creditworthy</th>\n",
       "    </tr>\n",
       "  </thead>\n",
       "  <tbody>\n",
       "    <tr>\n",
       "      <th>count</th>\n",
       "      <td>1000.000000</td>\n",
       "      <td>1000.000000</td>\n",
       "      <td>1000.000000</td>\n",
       "      <td>1000.000000</td>\n",
       "      <td>1000.000000</td>\n",
       "      <td>1000.000000</td>\n",
       "      <td>1000.000000</td>\n",
       "      <td>1000.000000</td>\n",
       "    </tr>\n",
       "    <tr>\n",
       "      <th>mean</th>\n",
       "      <td>20.903000</td>\n",
       "      <td>3271.258000</td>\n",
       "      <td>2.973000</td>\n",
       "      <td>2.845000</td>\n",
       "      <td>35.546000</td>\n",
       "      <td>1.407000</td>\n",
       "      <td>1.155000</td>\n",
       "      <td>1.300000</td>\n",
       "    </tr>\n",
       "    <tr>\n",
       "      <th>std</th>\n",
       "      <td>12.058814</td>\n",
       "      <td>2822.736876</td>\n",
       "      <td>1.118715</td>\n",
       "      <td>1.103718</td>\n",
       "      <td>11.375469</td>\n",
       "      <td>0.577654</td>\n",
       "      <td>0.362086</td>\n",
       "      <td>0.458487</td>\n",
       "    </tr>\n",
       "    <tr>\n",
       "      <th>min</th>\n",
       "      <td>4.000000</td>\n",
       "      <td>250.000000</td>\n",
       "      <td>1.000000</td>\n",
       "      <td>1.000000</td>\n",
       "      <td>19.000000</td>\n",
       "      <td>1.000000</td>\n",
       "      <td>1.000000</td>\n",
       "      <td>1.000000</td>\n",
       "    </tr>\n",
       "    <tr>\n",
       "      <th>25%</th>\n",
       "      <td>12.000000</td>\n",
       "      <td>1365.500000</td>\n",
       "      <td>2.000000</td>\n",
       "      <td>2.000000</td>\n",
       "      <td>27.000000</td>\n",
       "      <td>1.000000</td>\n",
       "      <td>1.000000</td>\n",
       "      <td>1.000000</td>\n",
       "    </tr>\n",
       "    <tr>\n",
       "      <th>50%</th>\n",
       "      <td>18.000000</td>\n",
       "      <td>2319.500000</td>\n",
       "      <td>3.000000</td>\n",
       "      <td>3.000000</td>\n",
       "      <td>33.000000</td>\n",
       "      <td>1.000000</td>\n",
       "      <td>1.000000</td>\n",
       "      <td>1.000000</td>\n",
       "    </tr>\n",
       "    <tr>\n",
       "      <th>75%</th>\n",
       "      <td>24.000000</td>\n",
       "      <td>3972.250000</td>\n",
       "      <td>4.000000</td>\n",
       "      <td>4.000000</td>\n",
       "      <td>42.000000</td>\n",
       "      <td>2.000000</td>\n",
       "      <td>1.000000</td>\n",
       "      <td>2.000000</td>\n",
       "    </tr>\n",
       "    <tr>\n",
       "      <th>max</th>\n",
       "      <td>72.000000</td>\n",
       "      <td>18424.000000</td>\n",
       "      <td>4.000000</td>\n",
       "      <td>4.000000</td>\n",
       "      <td>75.000000</td>\n",
       "      <td>4.000000</td>\n",
       "      <td>2.000000</td>\n",
       "      <td>2.000000</td>\n",
       "    </tr>\n",
       "  </tbody>\n",
       "</table>\n",
       "</div>"
      ],
      "text/plain": [
       "          duration  credit_amount  installment_rate  residence_since  \\\n",
       "count  1000.000000    1000.000000       1000.000000      1000.000000   \n",
       "mean     20.903000    3271.258000          2.973000         2.845000   \n",
       "std      12.058814    2822.736876          1.118715         1.103718   \n",
       "min       4.000000     250.000000          1.000000         1.000000   \n",
       "25%      12.000000    1365.500000          2.000000         2.000000   \n",
       "50%      18.000000    2319.500000          3.000000         3.000000   \n",
       "75%      24.000000    3972.250000          4.000000         4.000000   \n",
       "max      72.000000   18424.000000          4.000000         4.000000   \n",
       "\n",
       "               age  existing_credits  people_provide_maintenance  creditworthy  \n",
       "count  1000.000000       1000.000000                 1000.000000   1000.000000  \n",
       "mean     35.546000          1.407000                    1.155000      1.300000  \n",
       "std      11.375469          0.577654                    0.362086      0.458487  \n",
       "min      19.000000          1.000000                    1.000000      1.000000  \n",
       "25%      27.000000          1.000000                    1.000000      1.000000  \n",
       "50%      33.000000          1.000000                    1.000000      1.000000  \n",
       "75%      42.000000          2.000000                    1.000000      2.000000  \n",
       "max      75.000000          4.000000                    2.000000      2.000000  "
      ]
     },
     "execution_count": 5,
     "metadata": {},
     "output_type": "execute_result"
    }
   ],
   "source": [
    "df.describe()"
   ]
  },
  {
   "cell_type": "code",
   "execution_count": 6,
   "id": "c2c33c42",
   "metadata": {},
   "outputs": [
    {
     "name": "stdout",
     "output_type": "stream",
     "text": [
      "<class 'pandas.core.frame.DataFrame'>\n",
      "RangeIndex: 1000 entries, 0 to 999\n",
      "Data columns (total 21 columns):\n",
      " #   Column                      Non-Null Count  Dtype \n",
      "---  ------                      --------------  ----- \n",
      " 0   status_Account              1000 non-null   object\n",
      " 1   duration                    1000 non-null   int64 \n",
      " 2   credit_history              1000 non-null   object\n",
      " 3   purpose                     1000 non-null   object\n",
      " 4   credit_amount               1000 non-null   int64 \n",
      " 5   savings_account             1000 non-null   object\n",
      " 6   employment_since            1000 non-null   object\n",
      " 7   installment_rate            1000 non-null   int64 \n",
      " 8   personal_status_sex         1000 non-null   object\n",
      " 9   debtors                     1000 non-null   object\n",
      " 10  residence_since             1000 non-null   int64 \n",
      " 11  property                    1000 non-null   object\n",
      " 12  age                         1000 non-null   int64 \n",
      " 13  other_installment_plans     1000 non-null   object\n",
      " 14  housing                     1000 non-null   object\n",
      " 15  existing_credits            1000 non-null   int64 \n",
      " 16  job                         1000 non-null   object\n",
      " 17  people_provide_maintenance  1000 non-null   int64 \n",
      " 18  telephone                   1000 non-null   object\n",
      " 19  foreign_worker              1000 non-null   object\n",
      " 20  creditworthy                1000 non-null   int64 \n",
      "dtypes: int64(8), object(13)\n",
      "memory usage: 164.2+ KB\n"
     ]
    }
   ],
   "source": [
    "df.info()"
   ]
  },
  {
   "cell_type": "code",
   "execution_count": 7,
   "id": "fc96079f",
   "metadata": {},
   "outputs": [
    {
     "data": {
      "text/html": [
       "<div>\n",
       "<style scoped>\n",
       "    .dataframe tbody tr th:only-of-type {\n",
       "        vertical-align: middle;\n",
       "    }\n",
       "\n",
       "    .dataframe tbody tr th {\n",
       "        vertical-align: top;\n",
       "    }\n",
       "\n",
       "    .dataframe thead th {\n",
       "        text-align: right;\n",
       "    }\n",
       "</style>\n",
       "<table border=\"1\" class=\"dataframe\">\n",
       "  <thead>\n",
       "    <tr style=\"text-align: right;\">\n",
       "      <th></th>\n",
       "      <th>status_Account</th>\n",
       "      <th>duration</th>\n",
       "      <th>credit_history</th>\n",
       "      <th>purpose</th>\n",
       "      <th>credit_amount</th>\n",
       "      <th>savings_account</th>\n",
       "      <th>employment_since</th>\n",
       "      <th>installment_rate</th>\n",
       "      <th>personal_status_sex</th>\n",
       "      <th>debtors</th>\n",
       "      <th>...</th>\n",
       "      <th>property</th>\n",
       "      <th>age</th>\n",
       "      <th>other_installment_plans</th>\n",
       "      <th>housing</th>\n",
       "      <th>existing_credits</th>\n",
       "      <th>job</th>\n",
       "      <th>people_provide_maintenance</th>\n",
       "      <th>telephone</th>\n",
       "      <th>foreign_worker</th>\n",
       "      <th>creditworthy</th>\n",
       "    </tr>\n",
       "  </thead>\n",
       "  <tbody>\n",
       "    <tr>\n",
       "      <th>0</th>\n",
       "      <td>A14</td>\n",
       "      <td>36</td>\n",
       "      <td>A32</td>\n",
       "      <td>?</td>\n",
       "      <td>2299</td>\n",
       "      <td>A63</td>\n",
       "      <td>?</td>\n",
       "      <td>4</td>\n",
       "      <td>A93</td>\n",
       "      <td>A101</td>\n",
       "      <td>...</td>\n",
       "      <td>A123</td>\n",
       "      <td>39</td>\n",
       "      <td>A143</td>\n",
       "      <td>A152</td>\n",
       "      <td>1</td>\n",
       "      <td>A173</td>\n",
       "      <td>1</td>\n",
       "      <td>A191</td>\n",
       "      <td>?</td>\n",
       "      <td>1</td>\n",
       "    </tr>\n",
       "    <tr>\n",
       "      <th>1</th>\n",
       "      <td>A12</td>\n",
       "      <td>18</td>\n",
       "      <td>A32</td>\n",
       "      <td>A46</td>\n",
       "      <td>1239</td>\n",
       "      <td>A65</td>\n",
       "      <td>A73</td>\n",
       "      <td>4</td>\n",
       "      <td>A93</td>\n",
       "      <td>A101</td>\n",
       "      <td>...</td>\n",
       "      <td>A124</td>\n",
       "      <td>61</td>\n",
       "      <td>A143</td>\n",
       "      <td>A153</td>\n",
       "      <td>1</td>\n",
       "      <td>?</td>\n",
       "      <td>1</td>\n",
       "      <td>A191</td>\n",
       "      <td>A201</td>\n",
       "      <td>1</td>\n",
       "    </tr>\n",
       "    <tr>\n",
       "      <th>2</th>\n",
       "      <td>A13</td>\n",
       "      <td>24</td>\n",
       "      <td>A32</td>\n",
       "      <td>A40</td>\n",
       "      <td>947</td>\n",
       "      <td>A61</td>\n",
       "      <td>A74</td>\n",
       "      <td>4</td>\n",
       "      <td>A93</td>\n",
       "      <td>A101</td>\n",
       "      <td>...</td>\n",
       "      <td>A124</td>\n",
       "      <td>38</td>\n",
       "      <td>A141</td>\n",
       "      <td>A153</td>\n",
       "      <td>1</td>\n",
       "      <td>?</td>\n",
       "      <td>2</td>\n",
       "      <td>A191</td>\n",
       "      <td>?</td>\n",
       "      <td>2</td>\n",
       "    </tr>\n",
       "    <tr>\n",
       "      <th>3</th>\n",
       "      <td>A14</td>\n",
       "      <td>15</td>\n",
       "      <td>A33</td>\n",
       "      <td>A43</td>\n",
       "      <td>1478</td>\n",
       "      <td>A61</td>\n",
       "      <td>A73</td>\n",
       "      <td>4</td>\n",
       "      <td>A94</td>\n",
       "      <td>A101</td>\n",
       "      <td>...</td>\n",
       "      <td>A121</td>\n",
       "      <td>33</td>\n",
       "      <td>A141</td>\n",
       "      <td>A152</td>\n",
       "      <td>2</td>\n",
       "      <td>A173</td>\n",
       "      <td>1</td>\n",
       "      <td>A191</td>\n",
       "      <td>A201</td>\n",
       "      <td>1</td>\n",
       "    </tr>\n",
       "    <tr>\n",
       "      <th>4</th>\n",
       "      <td>A14</td>\n",
       "      <td>24</td>\n",
       "      <td>A32</td>\n",
       "      <td>A40</td>\n",
       "      <td>1525</td>\n",
       "      <td>A64</td>\n",
       "      <td>A74</td>\n",
       "      <td>4</td>\n",
       "      <td>A92</td>\n",
       "      <td>A101</td>\n",
       "      <td>...</td>\n",
       "      <td>A123</td>\n",
       "      <td>34</td>\n",
       "      <td>A143</td>\n",
       "      <td>A152</td>\n",
       "      <td>1</td>\n",
       "      <td>A173</td>\n",
       "      <td>2</td>\n",
       "      <td>A192</td>\n",
       "      <td>A201</td>\n",
       "      <td>1</td>\n",
       "    </tr>\n",
       "  </tbody>\n",
       "</table>\n",
       "<p>5 rows × 21 columns</p>\n",
       "</div>"
      ],
      "text/plain": [
       "  status_Account  duration credit_history purpose  credit_amount  \\\n",
       "0            A14        36            A32       ?           2299   \n",
       "1            A12        18            A32     A46           1239   \n",
       "2            A13        24            A32     A40            947   \n",
       "3            A14        15            A33     A43           1478   \n",
       "4            A14        24            A32     A40           1525   \n",
       "\n",
       "  savings_account employment_since  installment_rate personal_status_sex  \\\n",
       "0             A63                ?                 4                 A93   \n",
       "1             A65              A73                 4                 A93   \n",
       "2             A61              A74                 4                 A93   \n",
       "3             A61              A73                 4                 A94   \n",
       "4             A64              A74                 4                 A92   \n",
       "\n",
       "  debtors  ...  property age  other_installment_plans housing  \\\n",
       "0    A101  ...      A123  39                     A143    A152   \n",
       "1    A101  ...      A124  61                     A143    A153   \n",
       "2    A101  ...      A124  38                     A141    A153   \n",
       "3    A101  ...      A121  33                     A141    A152   \n",
       "4    A101  ...      A123  34                     A143    A152   \n",
       "\n",
       "  existing_credits   job people_provide_maintenance  telephone foreign_worker  \\\n",
       "0                1  A173                          1       A191              ?   \n",
       "1                1     ?                          1       A191           A201   \n",
       "2                1     ?                          2       A191              ?   \n",
       "3                2  A173                          1       A191           A201   \n",
       "4                1  A173                          2       A192           A201   \n",
       "\n",
       "  creditworthy  \n",
       "0            1  \n",
       "1            1  \n",
       "2            2  \n",
       "3            1  \n",
       "4            1  \n",
       "\n",
       "[5 rows x 21 columns]"
      ]
     },
     "execution_count": 7,
     "metadata": {},
     "output_type": "execute_result"
    }
   ],
   "source": [
    "df.head()"
   ]
  },
  {
   "cell_type": "code",
   "execution_count": 8,
   "id": "fcd380ca",
   "metadata": {},
   "outputs": [],
   "source": [
    "#Value transformation\n",
    "df.replace('A201', 1, inplace=True)\n",
    "df.replace('A202', 0, inplace=True)\n",
    "df.replace('A191', 0, inplace=True)\n",
    "df.replace('A192', 1, inplace=True)\n",
    "df.creditworthy.replace([1,2], [1,0], inplace=True)"
   ]
  },
  {
   "cell_type": "code",
   "execution_count": 9,
   "id": "0accc637",
   "metadata": {},
   "outputs": [],
   "source": [
    "df.replace(\"?\", np.nan, inplace=True)"
   ]
  },
  {
   "cell_type": "code",
   "execution_count": 10,
   "id": "981db666",
   "metadata": {},
   "outputs": [
    {
     "data": {
      "text/plain": [
       "status_Account                  0\n",
       "duration                        0\n",
       "credit_history                  0\n",
       "purpose                       173\n",
       "credit_amount                   0\n",
       "savings_account                 0\n",
       "employment_since              496\n",
       "installment_rate                0\n",
       "personal_status_sex             0\n",
       "debtors                         0\n",
       "residence_since                 0\n",
       "property                        0\n",
       "age                             0\n",
       "other_installment_plans         0\n",
       "housing                         0\n",
       "existing_credits                0\n",
       "job                           232\n",
       "people_provide_maintenance      0\n",
       "telephone                       0\n",
       "foreign_worker                360\n",
       "creditworthy                    0\n",
       "dtype: int64"
      ]
     },
     "execution_count": 10,
     "metadata": {},
     "output_type": "execute_result"
    }
   ],
   "source": [
    "#Missing Values\n",
    "df.isnull().sum()"
   ]
  },
  {
   "cell_type": "code",
   "execution_count": 11,
   "id": "a41eb2ac",
   "metadata": {},
   "outputs": [
    {
     "data": {
      "text/plain": [
       "A43     226\n",
       "A40     200\n",
       "A42     152\n",
       "A41      85\n",
       "A49      79\n",
       "A46      41\n",
       "A45      17\n",
       "A44      10\n",
       "A410      9\n",
       "A48       8\n",
       "Name: purpose, dtype: int64"
      ]
     },
     "execution_count": 11,
     "metadata": {},
     "output_type": "execute_result"
    }
   ],
   "source": [
    "df[\"purpose\"].value_counts()"
   ]
  },
  {
   "cell_type": "code",
   "execution_count": 12,
   "id": "6a24d168",
   "metadata": {},
   "outputs": [
    {
     "data": {
      "text/plain": [
       "A73    157\n",
       "A75    133\n",
       "A74     96\n",
       "A72     85\n",
       "A71     33\n",
       "Name: employment_since, dtype: int64"
      ]
     },
     "execution_count": 12,
     "metadata": {},
     "output_type": "execute_result"
    }
   ],
   "source": [
    "df[\"employment_since\"].value_counts()"
   ]
  },
  {
   "cell_type": "code",
   "execution_count": 13,
   "id": "5b5b19de",
   "metadata": {},
   "outputs": [
    {
     "data": {
      "text/plain": [
       "A173    484\n",
       "A172    152\n",
       "A174    116\n",
       "A171     16\n",
       "Name: job, dtype: int64"
      ]
     },
     "execution_count": 13,
     "metadata": {},
     "output_type": "execute_result"
    }
   ],
   "source": [
    "df[\"job\"].value_counts()"
   ]
  },
  {
   "cell_type": "code",
   "execution_count": 14,
   "id": "48f5c3d9",
   "metadata": {},
   "outputs": [
    {
     "data": {
      "text/plain": [
       "1.0    613\n",
       "0.0     27\n",
       "Name: foreign_worker, dtype: int64"
      ]
     },
     "execution_count": 14,
     "metadata": {},
     "output_type": "execute_result"
    }
   ],
   "source": [
    "df[\"foreign_worker\"].value_counts()"
   ]
  },
  {
   "cell_type": "code",
   "execution_count": 15,
   "id": "659b1bbc",
   "metadata": {},
   "outputs": [],
   "source": [
    "df = df.apply(lambda x: x.fillna(x.value_counts().index[0]))"
   ]
  },
  {
   "cell_type": "code",
   "execution_count": 16,
   "id": "7e40872b",
   "metadata": {},
   "outputs": [
    {
     "data": {
      "text/plain": [
       "status_Account                0\n",
       "duration                      0\n",
       "credit_history                0\n",
       "purpose                       0\n",
       "credit_amount                 0\n",
       "savings_account               0\n",
       "employment_since              0\n",
       "installment_rate              0\n",
       "personal_status_sex           0\n",
       "debtors                       0\n",
       "residence_since               0\n",
       "property                      0\n",
       "age                           0\n",
       "other_installment_plans       0\n",
       "housing                       0\n",
       "existing_credits              0\n",
       "job                           0\n",
       "people_provide_maintenance    0\n",
       "telephone                     0\n",
       "foreign_worker                0\n",
       "creditworthy                  0\n",
       "dtype: int64"
      ]
     },
     "execution_count": 16,
     "metadata": {},
     "output_type": "execute_result"
    }
   ],
   "source": [
    "#Checking missing values\n",
    "df.isnull().sum()"
   ]
  },
  {
   "cell_type": "code",
   "execution_count": 18,
   "id": "077382d1",
   "metadata": {},
   "outputs": [],
   "source": [
    "#Seperate the target variable to another DataFrame\n",
    "target = df[df.columns[-1]]"
   ]
  },
  {
   "cell_type": "code",
   "execution_count": 23,
   "id": "1c09b7cb",
   "metadata": {},
   "outputs": [],
   "source": [
    "df = df.drop(columns=['creditworthy'])"
   ]
  },
  {
   "cell_type": "code",
   "execution_count": 27,
   "id": "e3817db1",
   "metadata": {},
   "outputs": [
    {
     "name": "stdout",
     "output_type": "stream",
     "text": [
      "(1000, 20)\n",
      "(1000,)\n"
     ]
    }
   ],
   "source": [
    "print(df.shape)\n",
    "print(target.shape)"
   ]
  },
  {
   "cell_type": "code",
   "execution_count": 28,
   "id": "0d68e450",
   "metadata": {},
   "outputs": [
    {
     "data": {
      "text/plain": [
       "1    136\n",
       "3    157\n",
       "2    231\n",
       "4    476\n",
       "Name: installment_rate, dtype: int64"
      ]
     },
     "execution_count": 28,
     "metadata": {},
     "output_type": "execute_result"
    }
   ],
   "source": [
    "df['installment_rate'].value_counts(ascending=True)"
   ]
  },
  {
   "cell_type": "code",
   "execution_count": 34,
   "id": "3bd0c328",
   "metadata": {},
   "outputs": [
    {
     "data": {
      "text/plain": [
       "1.0    973\n",
       "0.0     27\n",
       "Name: foreign_worker, dtype: int64"
      ]
     },
     "execution_count": 34,
     "metadata": {},
     "output_type": "execute_result"
    }
   ],
   "source": [
    "df[\"foreign_worker\"].value_counts()"
   ]
  },
  {
   "cell_type": "code",
   "execution_count": 40,
   "id": "0a5946dd",
   "metadata": {},
   "outputs": [],
   "source": [
    "for col in ['telephone', 'foreign_worker']:\n",
    "    df[col] = df[col].astype('category')"
   ]
  },
  {
   "cell_type": "code",
   "execution_count": 47,
   "id": "a6e8ccc7",
   "metadata": {},
   "outputs": [
    {
     "name": "stdout",
     "output_type": "stream",
     "text": [
      "[[<AxesSubplot:title={'center':'duration'}>\n",
      "  <AxesSubplot:title={'center':'credit_amount'}>\n",
      "  <AxesSubplot:title={'center':'installment_rate'}>]\n",
      " [<AxesSubplot:title={'center':'residence_since'}>\n",
      "  <AxesSubplot:title={'center':'age'}>\n",
      "  <AxesSubplot:title={'center':'existing_credits'}>]\n",
      " [<AxesSubplot:title={'center':'people_provide_maintenance'}>\n",
      "  <AxesSubplot:> <AxesSubplot:>]]\n"
     ]
    },
    {
     "data": {
      "image/png": "[encoded data removed]",
      "text/plain": [
       "<Figure size 720x720 with 9 Axes>"
      ]
     },
     "metadata": {
      "needs_background": "light"
     },
     "output_type": "display_data"
    }
   ],
   "source": [
    "print(df.hist(figsize = (10,10)))"
   ]
  },
  {
   "cell_type": "code",
   "execution_count": null,
   "id": "f158fa66",
   "metadata": {},
   "outputs": [],
   "source": []
  }
 ],
 "metadata": {
  "kernelspec": {
   "display_name": "Python 3 (ipykernel)",
   "language": "python",
   "name": "python3"
  },
  "language_info": {
   "codemirror_mode": {
    "name": "ipython",
    "version": 3
   },
   "file_extension": ".py",
   "mimetype": "text/x-python",
   "name": "python",
   "nbconvert_exporter": "python",
   "pygments_lexer": "ipython3",
   "version": "3.9.7"
  }
 },
 "nbformat": 4,
 "nbformat_minor": 5
}
